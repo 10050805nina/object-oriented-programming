{
  "metadata": {
    "kernelspec": {
      "name": "python",
      "display_name": "Python (Pyodide)",
      "language": "python"
    },
    "language_info": {
      "codemirror_mode": {
        "name": "python",
        "version": 3
      },
      "file_extension": ".py",
      "mimetype": "text/x-python",
      "name": "python",
      "nbconvert_exporter": "python",
      "pygments_lexer": "ipython3",
      "version": "3.8"
    }
  },
  "nbformat_minor": 5,
  "nbformat": 4,
  "cells": [
    {
      "cell_type": "code",
      "source": "# Keyboard\n\nclass Keyboard:\n    \"\"\"A Keyboard takes in a list of buttons, and has a\n    dictionary of positions as keys, and Buttons as values.\n\n    >>> b1 = Button(\"button1\", \"H\")\n    >>> b2 = Button(\"button2\", \"I\")\n    >>> k = Keyboard([b1, b2])\n    >>> \"button1\" in k.buttons.keys() # Make sure to add the button to dictionary\n    True\n    >>> k.buttons[\"button1\"].letter\n    'H'\n    >>> k.buttons[\"button1\"].name\n    'button1'\n    >>> k.press(\"button1\")\n    'H'\n    >>> k.press(\"button100\")\n    ''\n    >>> b1.pressed\n    1\n    >>> b2.pressed\n    0\n    >>> k.typing([\"button1\", \"button2\"])\n    'HI'\n    >>> k.typing([\"button2\", \"button1\"])\n    'IH'\n    >>> b1.pressed # make sure typing calls press!\n    3\n    >>> b2.pressed\n    2\n    \"\"\"\n\n    def __init__(self, buttons):\n        self.buttons = {}\n        for element in buttons:\n            self.buttons[element.name] = element\n            \n\n    def press(self, name):\n        \"\"\"Takes in a name of the button pressed, and\n        returns that button's letter. Return an empty string \n        if the button does not exist. You can access the keys \n        of a dictionary d with d.keys(). \"\"\"\n        \"*** YOUR CODE HERE ***\"\n\n    def typing(self, typing_input):\n        \"\"\"Takes in a list of names of buttons to be pressed, and\n        returns the total output. Make sure to call self.press\"\"\"\n        \"*** YOUR CODE HERE ***\"\n\nclass Button:\n    def __init__(self, name, letter):\n        self.name = name\n        self.letter = letter\n        self.pressed = 0",
      "metadata": {
        "trusted": true
      },
      "execution_count": 47,
      "outputs": [],
      "id": "1a109d59-be35-4ec0-ba3a-a0296f0998ff"
    },
    {
      "cell_type": "code",
      "source": "class Keyboard:\n    def __init__(self, buttons):\n        self.buttons = {}\n        for element in buttons:\n            self.buttons[element.name] = element\nclass Button:\n    def __init__(self, name, letter):\n        self.name = name\n        self.letter = letter\n        self.pressed = 0",
      "metadata": {
        "trusted": true
      },
      "execution_count": 48,
      "outputs": [],
      "id": "569fce2b-f92e-4d48-a54a-df8130c59811"
    },
    {
      "cell_type": "code",
      "source": "b1 = Button(\"button1\", \"H\")\nb2 = Button(\"button2\", \"I\")\nk = Keyboard([b1, b2])\n\"button1\" in k.buttons.keys()",
      "metadata": {
        "trusted": true
      },
      "execution_count": 49,
      "outputs": [
        {
          "execution_count": 49,
          "output_type": "execute_result",
          "data": {
            "text/plain": "True"
          },
          "metadata": {}
        }
      ],
      "id": "aa6cd6df-2d98-41de-a0e6-651a9ac131f9"
    },
    {
      "cell_type": "code",
      "source": "k.buttons[\"button1\"]",
      "metadata": {
        "trusted": true
      },
      "execution_count": 50,
      "outputs": [
        {
          "execution_count": 50,
          "output_type": "execute_result",
          "data": {
            "text/plain": "<__main__.Button at 0x2d5df98>"
          },
          "metadata": {}
        }
      ],
      "id": "10d60aef-77b9-443d-b9a2-0d32b99c22d8"
    },
    {
      "cell_type": "code",
      "source": "k.buttons[\"button1\"].letter",
      "metadata": {
        "trusted": true
      },
      "execution_count": 51,
      "outputs": [
        {
          "execution_count": 51,
          "output_type": "execute_result",
          "data": {
            "text/plain": "'H'"
          },
          "metadata": {}
        }
      ],
      "id": "1ec7082b-f468-4256-a38d-3b9586cb20be"
    },
    {
      "cell_type": "code",
      "source": "k.buttons[\"button1\"].name",
      "metadata": {
        "trusted": true
      },
      "execution_count": 52,
      "outputs": [
        {
          "execution_count": 52,
          "output_type": "execute_result",
          "data": {
            "text/plain": "'button1'"
          },
          "metadata": {}
        }
      ],
      "id": "40b7f83d-3d39-48e6-9ae5-6dcdf5621805"
    },
    {
      "cell_type": "code",
      "source": "class Keyboard:\n    \n    def __init__(self, buttons):\n        self.buttons = {}\n        for element in buttons:\n            self.buttons[element.name] = element\n    def press(self, name):\n        \"\"\"Takes in a name of the button pressed, and\n        returns that button's letter. Return an empty string \n        if the button does not exist. You can access the keys \n        of a dictionary d with d.keys(). \"\"\"\n        if name in self.buttons.keys():\n            self.buttons[name].pressed += 1\n            return self.buttons[name].letter\n        else:\n            return ''",
      "metadata": {
        "trusted": true
      },
      "execution_count": 55,
      "outputs": [],
      "id": "0b2e368a-2d67-4ec0-ac30-4202a04c72a0"
    },
    {
      "cell_type": "code",
      "source": "",
      "metadata": {},
      "execution_count": null,
      "outputs": [],
      "id": "4a4fed48-634d-4e1f-b0ee-a92f46bef469"
    }
  ]
}